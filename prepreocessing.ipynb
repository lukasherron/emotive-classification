{
 "cells": [
  {
   "cell_type": "code",
   "execution_count": 1,
   "metadata": {},
   "outputs": [
    {
     "name": "stderr",
     "output_type": "stream",
     "text": [
      "/home/lukasherron/.local/lib/python3.8/site-packages/torchaudio/backend/utils.py:53: UserWarning: \"sox\" backend is being deprecated. The default backend will be changed to \"sox_io\" backend in 0.8.0 and \"sox\" backend will be removed in 0.9.0. Please migrate to \"sox_io\" backend. Please refer to https://github.com/pytorch/audio/issues/903 for the detail.\n",
      "  warnings.warn(\n"
     ]
    }
   ],
   "source": [
    "import numpy as np\n",
    "import numpy.random as npr\n",
    "import random\n",
    "import matplotlib.pyplot as plt\n",
    "from IPython.display import display, Audio\n",
    "import torch as torch\n",
    "import torchvision as tv\n",
    "import torchvision.transforms as transforms\n",
    "from torch.utils.data import Dataset, DataLoader\n",
    "import torch.nn as nn\n",
    "import torch.nn.functional as F\n",
    "import torch.optim as optim\n",
    "import torchaudio.transforms as audio\n",
    "from torch.utils.data import Dataset, DataLoader\n",
    "from sklearn.model_selection import train_test_split, KFold\n",
    "import sys\n",
    "from scipy.signal import resample\n",
    "from PIL import Image"
   ]
  },
  {
   "cell_type": "code",
   "execution_count": 78,
   "metadata": {},
   "outputs": [],
   "source": [
    "data_training = np.load('data_extra_1.npy', allow_pickle=True)"
   ]
  },
  {
   "cell_type": "code",
   "execution_count": 79,
   "metadata": {},
   "outputs": [],
   "source": [
    "r = len(data_training)\n",
    "for i in range(r):\n",
    "    data_training[i] = resample(data_training[i], 100000)\n",
    "    data_training[i] = (data_training[i] - np.average(data_training[i]))/max(abs(data_training[i]) + 1e-9)\n"
   ]
  },
  {
   "cell_type": "code",
   "execution_count": 80,
   "metadata": {},
   "outputs": [],
   "source": [
    "spectrograms_1 = []\n",
    "spectrograms_2 = []\n",
    "spectrograms_3 = []\n",
    "for i in range(r):\n",
    "    \n",
    "    sig = torch.Tensor(data_training[i])\n",
    "    sg = audio.MelSpectrogram( \n",
    "                            sample_rate = 44000, n_fft=4096, \n",
    "                            win_length = 4096, hop_length=1024,\n",
    "                            n_mels=128)(sig)\n",
    "    sg = sg.detach().numpy()\n",
    "    sg = np.array(transforms.Resize((128, 256))(Image.fromarray(sg)))\n",
    "    spectrograms_1.append(np.log(sg + 1e-9))\n",
    "\n",
    "\n",
    "    sg = audio.MelSpectrogram( \n",
    "                            sample_rate = 44000, n_fft=4096, \n",
    "                            win_length = 2048, hop_length=512,\n",
    "                            n_mels=128)(sig)\n",
    "    sg = sg.detach().numpy()\n",
    "    sg = np.array(transforms.Resize((128, 256))(Image.fromarray(sg)))\n",
    "    spectrograms_2.append(np.log(sg + 1e-9))\n",
    "\n",
    "\n",
    "    sg = audio.MelSpectrogram( \n",
    "                            sample_rate = 44000, n_fft=4096, \n",
    "                            win_length = 1024, hop_length=256,\n",
    "                            n_mels=128)(sig)\n",
    "    sg = sg.detach().numpy()\n",
    "    sg = np.array(transforms.Resize((128, 256))(Image.fromarray(sg)))\n",
    "    spectrograms_3.append(np.log(sg + 1e-9))\n",
    "\n",
    "\n",
    "features_log = np.stack([[spectrograms_1[i], spectrograms_2[i], spectrograms_3[i]] for i in range(r)])"
   ]
  },
  {
   "cell_type": "code",
   "execution_count": 81,
   "metadata": {},
   "outputs": [],
   "source": [
    "# Sphering the spectrograms:\n",
    "ZCA_spectrograms_1 = []\n",
    "ZCA_spectrograms_2 = []\n",
    "ZCA_spectrograms_3 = []\n",
    "\n",
    "for i in range(r):\n",
    "    for j in range(3):\n",
    "        demeaned = np.array(features_log[i][j] - np.mean(features_log[i][j], axis=0))\n",
    "        (r_prime,c) = demeaned.shape\n",
    "        lam = 10**-7\n",
    "        P = float(c)\n",
    "        cov = 1/P*np.dot(demeaned, demeaned.T) + lam*np.eye(r_prime)\n",
    "        D,V = np.linalg.eigh(cov)\n",
    "        ZCAed = np.dot(V, np.dot(V.T, demeaned))\n",
    "        if j == 0:\n",
    "            ZCA_spectrograms_1.append(ZCAed)\n",
    "        if j == 1:\n",
    "            ZCA_spectrograms_2.append(ZCAed)\n",
    "        if j == 2:\n",
    "            ZCA_spectrograms_3.append(ZCAed)\n",
    "\n",
    "ZCA_features_log = np.stack([[ZCA_spectrograms_1[i], ZCA_spectrograms_2[i], ZCA_spectrograms_3[i]] for i in range(r)])"
   ]
  },
  {
   "cell_type": "code",
   "execution_count": 84,
   "metadata": {},
   "outputs": [],
   "source": [
    "np.save('extra_ZCA_features_1.npy', ZCA_features_log)"
   ]
  }
 ],
 "metadata": {
  "kernelspec": {
   "display_name": "Python 3",
   "language": "python",
   "name": "python3"
  },
  "language_info": {
   "codemirror_mode": {
    "name": "ipython",
    "version": 3
   },
   "file_extension": ".py",
   "mimetype": "text/x-python",
   "name": "python",
   "nbconvert_exporter": "python",
   "pygments_lexer": "ipython3",
   "version": "3.8.5"
  }
 },
 "nbformat": 4,
 "nbformat_minor": 4
}
