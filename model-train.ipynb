{
 "cells": [
  {
   "cell_type": "code",
   "execution_count": 2,
   "metadata": {
    "_cell_guid": "79c7e3d0-c299-4dcb-8224-4455121ee9b0",
    "_uuid": "d629ff2d2480ee46fbb7e2d37f6b5fab8052498a",
    "execution": {
     "iopub.execute_input": "2020-12-12T04:04:44.772797Z",
     "iopub.status.busy": "2020-12-12T04:04:44.772198Z",
     "iopub.status.idle": "2020-12-12T04:04:47.385085Z",
     "shell.execute_reply": "2020-12-12T04:04:47.383598Z"
    },
    "papermill": {
     "duration": 2.636046,
     "end_time": "2020-12-12T04:04:47.385224",
     "exception": false,
     "start_time": "2020-12-12T04:04:44.749178",
     "status": "completed"
    },
    "tags": []
   },
   "outputs": [],
   "source": [
    "import numpy as np\n",
    "import numpy.random as npr\n",
    "import random\n",
    "import matplotlib.pyplot as plt\n",
    "from IPython.display import display, Audio\n",
    "import torch as torch\n",
    "\n",
    "import torchvision as tv\n",
    "import torchvision.transforms as transforms\n",
    "from torch.utils.data import Dataset, DataLoader\n",
    "import torch.nn as nn\n",
    "import torch.nn.functional as F\n",
    "import torch.optim as optim\n",
    "from sklearn.model_selection import train_test_split, KFold\n",
    "import sys\n",
    "import torchvision.models as models\n",
    "from sklearn import svm"
   ]
  },
  {
   "cell_type": "code",
   "execution_count": 3,
   "metadata": {
    "execution": {
     "iopub.execute_input": "2020-12-12T04:04:47.427484Z",
     "iopub.status.busy": "2020-12-12T04:04:47.426686Z",
     "iopub.status.idle": "2020-12-12T04:04:47.429316Z",
     "shell.execute_reply": "2020-12-12T04:04:47.429883Z"
    },
    "papermill": {
     "duration": 0.027677,
     "end_time": "2020-12-12T04:04:47.430003",
     "exception": false,
     "start_time": "2020-12-12T04:04:47.402326",
     "status": "completed"
    },
    "tags": []
   },
   "outputs": [],
   "source": [
    "class Feature_Dataset(Dataset):\n",
    "    def __init__(self, data, labels):\n",
    "        \n",
    "        data = torch.from_numpy(data)\n",
    "        labels = torch.from_numpy(labels)\n",
    "        \n",
    "        self.data = data\n",
    "        self.labels = labels\n",
    "        \n",
    "    def __len__(self):\n",
    "        \n",
    "        return(len(self.labels))\n",
    "    \n",
    "    def __getitem__(self, idx):\n",
    "        \n",
    "        sample = dict()\n",
    "        sample['index'] = idx\n",
    "        sample['data'] = self.data[idx]\n",
    "        sample['label'] = self.labels[idx]\n",
    "        \n",
    "        return sample"
   ]
  },
  {
   "cell_type": "code",
   "execution_count": 4,
   "metadata": {
    "execution": {
     "iopub.execute_input": "2020-12-12T04:04:47.472244Z",
     "iopub.status.busy": "2020-12-12T04:04:47.471522Z",
     "iopub.status.idle": "2020-12-12T04:05:12.034776Z",
     "shell.execute_reply": "2020-12-12T04:05:12.035989Z"
    },
    "papermill": {
     "duration": 24.589327,
     "end_time": "2020-12-12T04:05:12.036173",
     "exception": false,
     "start_time": "2020-12-12T04:04:47.446846",
     "status": "completed"
    },
    "tags": []
   },
   "outputs": [],
   "source": [
    "features = np.load('../input/zca-spectrograms/ZCA_features.npy')\n",
    "labels_features = np.load('../input/zca-spectrograms/labels_training.npy')\n",
    "x_train, x_test, y_train, y_test = train_test_split(features, labels_features, train_size=0.8)\n",
    "\n",
    "features = None\n",
    "labels_features=None\n",
    "\n",
    "extra_features = np.load('../input/zca-spectrograms/extra_ZCA_features_1(2).npy', allow_pickle=True)\n",
    "all_features = np.vstack((x_train, extra_features))\n",
    "extra_features = None\n",
    "x_train = None\n",
    "\n",
    "extra_features_2 = np.load('../input/zca-spectrograms/extra_ZCA_features_2.npy', allow_pickle=True)\n",
    "all_features = np.vstack((all_features, extra_features_2))\n",
    "extra_features_2 = None\n",
    "\n",
    "extra_features_3 = np.load('../input/zca-spectrograms/extra_ZCA_features_3.npy', allow_pickle=True)\n",
    "all_features = np.vstack((all_features, extra_features_3))\n",
    "extra_features_3 = None\n",
    "\n",
    "labels_extra_features = np.load('../input/zca-spectrograms/labels_extra1.npy')\n",
    "all_labels = np.append(y_train, labels_extra_features)\n",
    "labels_extra_features = None\n",
    "y_train = None\n",
    "\n",
    "labels_extra_features_2 = np.load('../input/zca-spectrograms/labels_extra2.npy')\n",
    "all_labels = np.append(all_labels, labels_extra_features_2)\n",
    "labels_extra_features_3 = None\n",
    "\n",
    "labels_extra_features_3 = np.load('../input/zca-spectrograms/labels_extra3.npy')\n",
    "all_labels = np.append(all_labels, labels_extra_features_3)\n",
    "labels_extra_features_3 = None"
   ]
  },
  {
   "cell_type": "code",
   "execution_count": 5,
   "metadata": {
    "execution": {
     "iopub.execute_input": "2020-12-12T04:05:12.103347Z",
     "iopub.status.busy": "2020-12-12T04:05:12.102144Z",
     "iopub.status.idle": "2020-12-12T04:05:12.105268Z",
     "shell.execute_reply": "2020-12-12T04:05:12.104430Z"
    },
    "papermill": {
     "duration": 0.039817,
     "end_time": "2020-12-12T04:05:12.105412",
     "exception": false,
     "start_time": "2020-12-12T04:05:12.065595",
     "status": "completed"
    },
    "tags": []
   },
   "outputs": [],
   "source": [
    "batch=24\n",
    "criterion=nn.CrossEntropyLoss()"
   ]
  },
  {
   "cell_type": "code",
   "execution_count": 6,
   "metadata": {
    "execution": {
     "iopub.execute_input": "2020-12-12T04:05:12.175788Z",
     "iopub.status.busy": "2020-12-12T04:05:12.174820Z",
     "iopub.status.idle": "2020-12-12T04:05:12.177430Z",
     "shell.execute_reply": "2020-12-12T04:05:12.176665Z"
    },
    "papermill": {
     "duration": 0.043504,
     "end_time": "2020-12-12T04:05:12.177557",
     "exception": false,
     "start_time": "2020-12-12T04:05:12.134053",
     "status": "completed"
    },
    "tags": []
   },
   "outputs": [],
   "source": [
    "training_dataset = Feature_Dataset(all_features, all_labels)\n",
    "test_dataset = Feature_Dataset(x_test, y_test)"
   ]
  },
  {
   "cell_type": "code",
   "execution_count": 7,
   "metadata": {
    "execution": {
     "iopub.execute_input": "2020-12-12T04:05:12.238209Z",
     "iopub.status.busy": "2020-12-12T04:05:12.237190Z",
     "iopub.status.idle": "2020-12-12T04:05:12.240003Z",
     "shell.execute_reply": "2020-12-12T04:05:12.239111Z"
    },
    "papermill": {
     "duration": 0.036448,
     "end_time": "2020-12-12T04:05:12.240142",
     "exception": false,
     "start_time": "2020-12-12T04:05:12.203694",
     "status": "completed"
    },
    "tags": []
   },
   "outputs": [],
   "source": [
    "x_test = None\n",
    "y_test = None\n",
    "all_features = None\n",
    "all_labels = None"
   ]
  },
  {
   "cell_type": "code",
   "execution_count": 8,
   "metadata": {
    "execution": {
     "iopub.execute_input": "2020-12-12T04:05:12.300625Z",
     "iopub.status.busy": "2020-12-12T04:05:12.299536Z",
     "iopub.status.idle": "2020-12-12T04:05:19.943533Z",
     "shell.execute_reply": "2020-12-12T04:05:19.943012Z"
    },
    "papermill": {
     "duration": 7.675318,
     "end_time": "2020-12-12T04:05:19.943643",
     "exception": false,
     "start_time": "2020-12-12T04:05:12.268325",
     "status": "completed"
    },
    "tags": []
   },
   "outputs": [
    {
     "name": "stderr",
     "output_type": "stream",
     "text": [
      "Downloading: \"https://download.pytorch.org/models/densenet161-8d451a50.pth\" to /root/.cache/torch/hub/checkpoints/densenet161-8d451a50.pth\n"
     ]
    },
    {
     "data": {
      "application/vnd.jupyter.widget-view+json": {
       "model_id": "479d9150a5834d4986ffe8712822203a",
       "version_major": 2,
       "version_minor": 0
      },
      "text/plain": [
       "HBox(children=(FloatProgress(value=0.0, max=115730790.0), HTML(value='')))"
      ]
     },
     "metadata": {},
     "output_type": "display_data"
    },
    {
     "name": "stdout",
     "output_type": "stream",
     "text": [
      "\n"
     ]
    }
   ],
   "source": [
    "net = models.densenet161(pretrained=True)"
   ]
  },
  {
   "cell_type": "code",
   "execution_count": 9,
   "metadata": {
    "execution": {
     "iopub.execute_input": "2020-12-12T04:05:19.986210Z",
     "iopub.status.busy": "2020-12-12T04:05:19.985538Z",
     "iopub.status.idle": "2020-12-12T04:05:24.990477Z",
     "shell.execute_reply": "2020-12-12T04:05:24.991152Z"
    },
    "papermill": {
     "duration": 5.028608,
     "end_time": "2020-12-12T04:05:24.991319",
     "exception": false,
     "start_time": "2020-12-12T04:05:19.962711",
     "status": "completed"
    },
    "tags": []
   },
   "outputs": [],
   "source": [
    "num_classes = 8\n",
    "\n",
    "# DENSENET 161\n",
    "net.classifier = nn.Linear(2208, num_classes)\n",
    "net.to(torch.device(\"cuda:0\"));"
   ]
  },
  {
   "cell_type": "code",
   "execution_count": 10,
   "metadata": {
    "execution": {
     "iopub.execute_input": "2020-12-12T04:05:25.061269Z",
     "iopub.status.busy": "2020-12-12T04:05:25.060493Z",
     "iopub.status.idle": "2020-12-12T04:29:58.161718Z",
     "shell.execute_reply": "2020-12-12T04:29:58.161218Z"
    },
    "papermill": {
     "duration": 1473.151471,
     "end_time": "2020-12-12T04:29:58.161867",
     "exception": false,
     "start_time": "2020-12-12T04:05:25.010396",
     "status": "completed"
    },
    "tags": []
   },
   "outputs": [
    {
     "name": "stdout",
     "output_type": "stream",
     "text": [
      "Epoch [1/60], Step[80/80], Loss: 0.9920, Accuracy: 70.83%\n",
      "> Epoch [1/60], Test Loss: 1.4375, Test Accuracy: 61.88%\n",
      "Epoch [2/60], Step[80/80], Loss: 0.4981, Accuracy: 83.33%\n",
      "> Epoch [2/60], Test Loss: 0.5437, Test Accuracy: 73.12%\n",
      "Epoch [3/60], Step[80/80], Loss: 0.0870, Accuracy: 100.00%\n",
      "> Epoch [3/60], Test Loss: 0.3653, Test Accuracy: 73.33%\n",
      "Epoch [4/60], Step[80/80], Loss: 0.0218, Accuracy: 100.00%\n",
      "> Epoch [4/60], Test Loss: 0.7417, Test Accuracy: 72.92%\n",
      "Epoch [5/60], Step[80/80], Loss: 0.0123, Accuracy: 100.00%\n",
      "> Epoch [5/60], Test Loss: 0.8678, Test Accuracy: 74.79%\n",
      "Epoch [6/60], Step[80/80], Loss: 0.1467, Accuracy: 95.83%\n",
      "> Epoch [6/60], Test Loss: 0.3867, Test Accuracy: 73.33%\n",
      "Epoch [7/60], Step[80/80], Loss: 0.1989, Accuracy: 95.83%\n",
      "> Epoch [7/60], Test Loss: 0.4633, Test Accuracy: 70.42%\n",
      "Epoch [8/60], Step[80/80], Loss: 0.1207, Accuracy: 95.83%\n",
      "> Epoch [8/60], Test Loss: 0.7982, Test Accuracy: 72.08%\n",
      "Epoch [9/60], Step[80/80], Loss: 0.0887, Accuracy: 95.83%\n",
      "> Epoch [9/60], Test Loss: 1.7256, Test Accuracy: 70.21%\n",
      "Epoch [10/60], Step[80/80], Loss: 0.0102, Accuracy: 100.00%\n",
      "> Epoch [10/60], Test Loss: 0.5713, Test Accuracy: 73.96%\n",
      "Epoch [11/60], Step[80/80], Loss: 0.0201, Accuracy: 100.00%\n",
      "> Epoch [11/60], Test Loss: 0.5869, Test Accuracy: 73.75%\n",
      "Epoch [12/60], Step[80/80], Loss: 0.0863, Accuracy: 95.83%\n",
      "> Epoch [12/60], Test Loss: 0.5757, Test Accuracy: 73.33%\n",
      "Epoch [13/60], Step[80/80], Loss: 0.0149, Accuracy: 100.00%\n",
      "> Epoch [13/60], Test Loss: 0.8766, Test Accuracy: 76.25%\n",
      "Epoch [14/60], Step[80/80], Loss: 0.0088, Accuracy: 100.00%\n",
      "> Epoch [14/60], Test Loss: 0.4256, Test Accuracy: 76.46%\n",
      "Epoch [15/60], Step[80/80], Loss: 0.0045, Accuracy: 100.00%\n",
      "> Epoch [15/60], Test Loss: 0.4160, Test Accuracy: 77.08%\n",
      "Epoch [16/60], Step[80/80], Loss: 0.0046, Accuracy: 100.00%\n",
      "> Epoch [16/60], Test Loss: 0.7654, Test Accuracy: 79.38%\n",
      "Epoch [17/60], Step[80/80], Loss: 0.0072, Accuracy: 100.00%\n",
      "> Epoch [17/60], Test Loss: 1.1975, Test Accuracy: 78.96%\n",
      "Epoch [18/60], Step[80/80], Loss: 0.0013, Accuracy: 100.00%\n",
      "> Epoch [18/60], Test Loss: 0.3818, Test Accuracy: 79.79%\n",
      "Epoch [19/60], Step[80/80], Loss: 0.0007, Accuracy: 100.00%\n",
      "> Epoch [19/60], Test Loss: 0.7915, Test Accuracy: 78.54%\n",
      "Epoch [20/60], Step[80/80], Loss: 0.0096, Accuracy: 100.00%\n",
      "> Epoch [20/60], Test Loss: 1.1214, Test Accuracy: 78.33%\n",
      "Epoch [21/60], Step[80/80], Loss: 0.0011, Accuracy: 100.00%\n",
      "> Epoch [21/60], Test Loss: 1.1468, Test Accuracy: 78.54%\n",
      "Epoch [22/60], Step[80/80], Loss: 0.0005, Accuracy: 100.00%\n",
      "> Epoch [22/60], Test Loss: 1.0171, Test Accuracy: 78.33%\n",
      "Epoch [23/60], Step[80/80], Loss: 0.0003, Accuracy: 100.00%\n",
      "> Epoch [23/60], Test Loss: 0.7412, Test Accuracy: 79.17%\n",
      "Epoch [24/60], Step[80/80], Loss: 0.0020, Accuracy: 100.00%\n",
      "> Epoch [24/60], Test Loss: 0.3486, Test Accuracy: 77.92%\n",
      "Epoch [25/60], Step[80/80], Loss: 0.0017, Accuracy: 100.00%\n",
      "> Epoch [25/60], Test Loss: 1.2856, Test Accuracy: 77.50%\n",
      "Epoch [26/60], Step[80/80], Loss: 0.0006, Accuracy: 100.00%\n",
      "> Epoch [26/60], Test Loss: 1.1435, Test Accuracy: 77.71%\n",
      "Epoch [27/60], Step[80/80], Loss: 0.0005, Accuracy: 100.00%\n",
      "> Epoch [27/60], Test Loss: 0.8222, Test Accuracy: 78.33%\n",
      "Epoch [28/60], Step[80/80], Loss: 0.0016, Accuracy: 100.00%\n",
      "> Epoch [28/60], Test Loss: 1.2920, Test Accuracy: 78.12%\n",
      "Epoch [29/60], Step[80/80], Loss: 0.0036, Accuracy: 100.00%\n",
      "> Epoch [29/60], Test Loss: 0.7394, Test Accuracy: 78.75%\n",
      "Epoch [30/60], Step[80/80], Loss: 0.0990, Accuracy: 95.83%\n",
      "> Epoch [30/60], Test Loss: 1.1975, Test Accuracy: 69.38%\n",
      "Epoch [31/60], Step[80/80], Loss: 0.3999, Accuracy: 83.33%\n",
      "> Epoch [31/60], Test Loss: 0.7281, Test Accuracy: 72.71%\n",
      "Epoch [32/60], Step[80/80], Loss: 0.0214, Accuracy: 100.00%\n",
      "> Epoch [32/60], Test Loss: 1.2807, Test Accuracy: 73.12%\n",
      "Epoch [33/60], Step[80/80], Loss: 0.0541, Accuracy: 100.00%\n",
      "> Epoch [33/60], Test Loss: 0.9582, Test Accuracy: 74.58%\n",
      "Epoch [34/60], Step[80/80], Loss: 0.0023, Accuracy: 100.00%\n",
      "> Epoch [34/60], Test Loss: 0.7354, Test Accuracy: 78.33%\n",
      "Epoch [35/60], Step[80/80], Loss: 0.0010, Accuracy: 100.00%\n",
      "> Epoch [35/60], Test Loss: 1.0126, Test Accuracy: 77.71%\n",
      "Epoch [36/60], Step[80/80], Loss: 0.0192, Accuracy: 100.00%\n",
      "> Epoch [36/60], Test Loss: 0.6063, Test Accuracy: 79.79%\n",
      "Epoch [37/60], Step[80/80], Loss: 0.0489, Accuracy: 100.00%\n",
      "> Epoch [37/60], Test Loss: 0.8085, Test Accuracy: 80.42%\n",
      "Epoch [38/60], Step[80/80], Loss: 0.0018, Accuracy: 100.00%\n",
      "> Epoch [38/60], Test Loss: 0.7612, Test Accuracy: 79.17%\n",
      "Epoch [39/60], Step[80/80], Loss: 0.0015, Accuracy: 100.00%\n",
      "> Epoch [39/60], Test Loss: 0.8104, Test Accuracy: 81.04%\n",
      "Epoch [40/60], Step[80/80], Loss: 0.0004, Accuracy: 100.00%\n",
      "> Epoch [40/60], Test Loss: 0.4509, Test Accuracy: 80.83%\n",
      "Epoch [41/60], Step[80/80], Loss: 0.0005, Accuracy: 100.00%\n",
      "> Epoch [41/60], Test Loss: 0.3485, Test Accuracy: 78.54%\n",
      "Epoch [42/60], Step[80/80], Loss: 0.0009, Accuracy: 100.00%\n",
      "> Epoch [42/60], Test Loss: 1.0542, Test Accuracy: 77.29%\n",
      "Epoch [43/60], Step[80/80], Loss: 0.0126, Accuracy: 100.00%\n",
      "> Epoch [43/60], Test Loss: 0.6145, Test Accuracy: 80.83%\n",
      "Epoch [44/60], Step[80/80], Loss: 0.0007, Accuracy: 100.00%\n",
      "> Epoch [44/60], Test Loss: 0.8329, Test Accuracy: 80.00%\n",
      "Epoch [45/60], Step[80/80], Loss: 0.0017, Accuracy: 100.00%\n",
      "> Epoch [45/60], Test Loss: 0.8981, Test Accuracy: 80.83%\n",
      "Epoch [46/60], Step[80/80], Loss: 0.0039, Accuracy: 100.00%\n",
      "> Epoch [46/60], Test Loss: 0.4158, Test Accuracy: 81.46%\n",
      "Epoch [47/60], Step[80/80], Loss: 0.0021, Accuracy: 100.00%\n",
      "> Epoch [47/60], Test Loss: 0.9905, Test Accuracy: 80.42%\n",
      "Epoch [48/60], Step[80/80], Loss: 0.0006, Accuracy: 100.00%\n",
      "> Epoch [48/60], Test Loss: 0.2913, Test Accuracy: 81.67%\n",
      "Epoch [49/60], Step[80/80], Loss: 0.0013, Accuracy: 100.00%\n",
      "> Epoch [49/60], Test Loss: 0.5663, Test Accuracy: 80.62%\n",
      "Epoch [50/60], Step[80/80], Loss: 0.0002, Accuracy: 100.00%\n",
      "> Epoch [50/60], Test Loss: 1.3388, Test Accuracy: 82.08%\n",
      "Epoch [51/60], Step[80/80], Loss: 0.0002, Accuracy: 100.00%\n",
      "> Epoch [51/60], Test Loss: 0.5298, Test Accuracy: 82.71%\n",
      "Epoch [52/60], Step[80/80], Loss: 0.0022, Accuracy: 100.00%\n",
      "> Epoch [52/60], Test Loss: 0.8397, Test Accuracy: 80.62%\n",
      "Epoch [53/60], Step[80/80], Loss: 0.0002, Accuracy: 100.00%\n",
      "> Epoch [53/60], Test Loss: 0.2449, Test Accuracy: 81.46%\n",
      "Epoch [54/60], Step[80/80], Loss: 0.0001, Accuracy: 100.00%\n",
      "> Epoch [54/60], Test Loss: 0.5900, Test Accuracy: 80.00%\n",
      "Epoch [55/60], Step[80/80], Loss: 0.0021, Accuracy: 100.00%\n",
      "> Epoch [55/60], Test Loss: 0.3223, Test Accuracy: 81.88%\n",
      "Epoch [56/60], Step[80/80], Loss: 0.0001, Accuracy: 100.00%\n",
      "> Epoch [56/60], Test Loss: 0.4791, Test Accuracy: 82.50%\n",
      "Epoch [57/60], Step[80/80], Loss: 0.0001, Accuracy: 100.00%\n",
      "> Epoch [57/60], Test Loss: 0.5905, Test Accuracy: 82.29%\n",
      "Epoch [58/60], Step[80/80], Loss: 0.0002, Accuracy: 100.00%\n",
      "> Epoch [58/60], Test Loss: 0.9427, Test Accuracy: 82.29%\n",
      "Epoch [59/60], Step[80/80], Loss: 0.0001, Accuracy: 100.00%\n",
      "> Epoch [59/60], Test Loss: 0.3071, Test Accuracy: 82.50%\n",
      "Epoch [60/60], Step[80/80], Loss: 0.0001, Accuracy: 100.00%\n",
      "> Epoch [60/60], Test Loss: 1.2367, Test Accuracy: 80.83%\n"
     ]
    }
   ],
   "source": [
    "training_loader = DataLoader(training_dataset, batch_size=batch, shuffle=True)\n",
    "total_step = len(training_loader)\n",
    "\n",
    "loss_list = []\n",
    "acc_list = []\n",
    "num_epochs = 60\n",
    "test_accuracies, learning_rates = [], []\n",
    "\n",
    "for learning_rate in [1e-4]:\n",
    "\n",
    "    optimizer = torch.optim.AdamW(net.parameters(), lr=learning_rate, weight_decay=1e-3)\n",
    "    training_accuracies = []\n",
    "\n",
    "    for epoch in range(num_epochs):\n",
    "        for idx, data in enumerate(training_loader):\n",
    "            images, labels = data['data'], data['label']\n",
    "            labels -= 1\n",
    "\n",
    "            outputs = net(images.type(torch.cuda.FloatTensor))\n",
    "            loss = criterion(outputs, labels.type(torch.cuda.LongTensor))\n",
    "\n",
    "            optimizer.zero_grad()\n",
    "            loss.backward()\n",
    "            optimizer.step()\n",
    "\n",
    "            total = labels.size(0)\n",
    "            _, predicted = torch.max(outputs.data, 1)\n",
    "            correct = (predicted == labels.type(torch.cuda.LongTensor)).sum().item()\n",
    "            acc_list.append(correct/ total)\n",
    "\n",
    "            \n",
    "        print('Epoch [{}/{}], Step[{}/{}], Loss: {:.4f}, Accuracy: {:.2f}%'\n",
    "              .format(epoch + 1, num_epochs, idx +\n",
    "                      1, total_step, loss.item(), (correct/total)*100))\n",
    "        training_accuracies.append(np.average(acc_list))\n",
    "        acc_list = []\n",
    "        if epoch % 20 == 0:\n",
    "            learning_rate/=10\n",
    "            optimizer = torch.optim.AdamW(net.parameters(), lr=learning_rate, weight_decay=1e-3)\n",
    "\n",
    "        #validation stage\n",
    "        test_loader  = DataLoader(test_dataset, batch_size=batch, shuffle=True)\n",
    "        test_acc = []\n",
    "        for idx, data in enumerate(test_loader):\n",
    "            images, labels = data['data'], data['label']\n",
    "            labels -= 1\n",
    "            outputs = net(images.type(torch.cuda.FloatTensor))\n",
    "            loss = criterion(outputs, labels.type(torch.cuda.LongTensor))\n",
    "            total = labels.size(0)\n",
    "            _, predicted = torch.max(outputs.data, 1)\n",
    "            correct = (predicted == labels.type(torch.cuda.LongTensor)).sum().item()\n",
    "            test_acc.append(correct/ total)\n",
    "\n",
    "        test_accuracies.append(np.average(test_acc))\n",
    "        print('> Epoch [{}/{}], Test Loss: {:.4f}, Test Accuracy: {:.2f}%'\n",
    "                  .format(epoch + 1, num_epochs,\n",
    "                          loss.item(), (test_accuracies[-1])*100))\n",
    "\n",
    "        \n",
    "        learning_rates.append(learning_rate)"
   ]
  },
  {
   "cell_type": "code",
   "execution_count": 12,
   "metadata": {
    "execution": {
     "iopub.execute_input": "2020-12-12T04:29:58.733240Z",
     "iopub.status.busy": "2020-12-12T04:29:58.722766Z",
     "iopub.status.idle": "2020-12-12T04:29:58.991439Z",
     "shell.execute_reply": "2020-12-12T04:29:58.990893Z"
    },
    "papermill": {
     "duration": 0.336651,
     "end_time": "2020-12-12T04:29:58.991550",
     "exception": false,
     "start_time": "2020-12-12T04:29:58.654899",
     "status": "completed"
    },
    "tags": []
   },
   "outputs": [],
   "source": [
    "training_accuracies_4 = training_accuracies\n",
    "torch.save(net, f='/kaggle/working/solo_densenet_3.pt')"
   ]
  },
  {
   "cell_type": "code",
   "execution_count": 20,
   "metadata": {
    "execution": {
     "iopub.execute_input": "2020-12-12T04:30:01.847328Z",
     "iopub.status.busy": "2020-12-12T04:30:01.841333Z",
     "iopub.status.idle": "2020-12-12T04:30:01.850322Z",
     "shell.execute_reply": "2020-12-12T04:30:01.849827Z"
    },
    "papermill": {
     "duration": 0.081264,
     "end_time": "2020-12-12T04:30:01.850428",
     "exception": false,
     "start_time": "2020-12-12T04:30:01.769164",
     "status": "completed"
    },
    "tags": []
   },
   "outputs": [],
   "source": [
    "import matplotlib.pyplot as plt\n",
    "\n",
    "from sklearn.metrics import confusion_matrix\n",
    "import itertools\n",
    "import numpy as np\n",
    "import matplotlib.pyplot as plt\n",
    "\n",
    "def plot_confusion_matrix(cm, classes, normalize=False, title='Confusion Matrix', cmap=plt.cm.Blues):\n",
    "    cm = cm.detach().numpy()\n",
    "    if normalize:\n",
    "        cm = cm.astype('float') / cm.sum(axis=1)[:, np.newaxis]\n",
    "\n",
    "    plt.imshow(cm, interpolation='nearest', cmap=cmap)\n",
    "    plt.title(title)\n",
    "    plt.colorbar()\n",
    "    tick_marks = np.arange(len(classes))\n",
    "    plt.xticks(tick_marks, classes, rotation=45)\n",
    "    plt.yticks(tick_marks, classes)\n",
    "    \n",
    "    fmt = '.2f' if normalize else 'd'\n",
    "    thresh = cm.max() / 2.\n",
    "    for i, j in itertools.product(range(cm.shape[0]), range(cm.shape[1])):\n",
    "        plt.text(j, i, format(cm[i, j], fmt), horizontalalignment=\"center\", color=\"white\" if cm[i, j] > thresh else \"black\")\n",
    "\n",
    "    plt.tight_layout()\n",
    "    plt.ylabel('True label')\n",
    "    plt.xlabel('Predicted label')\n",
    "\n",
    "\n"
   ]
  },
  {
   "cell_type": "code",
   "execution_count": 21,
   "metadata": {
    "execution": {
     "iopub.execute_input": "2020-12-12T04:30:01.986209Z",
     "iopub.status.busy": "2020-12-12T04:30:01.985151Z",
     "iopub.status.idle": "2020-12-12T04:30:02.448444Z",
     "shell.execute_reply": "2020-12-12T04:30:02.448940Z"
    },
    "papermill": {
     "duration": 0.537995,
     "end_time": "2020-12-12T04:30:02.449075",
     "exception": false,
     "start_time": "2020-12-12T04:30:01.911080",
     "status": "completed"
    },
    "tags": []
   },
   "outputs": [
    {
     "name": "stdout",
     "output_type": "stream",
     "text": [
      "Normalized confusion matrix\n",
      "[[0.69090909 0.23636364 0.05454545 0.01818182 0.         0.\n",
      "  0.         0.        ]\n",
      " [0.09433962 0.77358491 0.05660377 0.01886792 0.01886792 0.01886792\n",
      "  0.         0.01886792]\n",
      " [0.03508772 0.01754386 0.78947368 0.03508772 0.07017544 0.01754386\n",
      "  0.01754386 0.01754386]\n",
      " [0.         0.01612903 0.06451613 0.85483871 0.01612903 0.03225806\n",
      "  0.01612903 0.        ]\n",
      " [0.         0.01612903 0.03225806 0.01612903 0.85483871 0.03225806\n",
      "  0.03225806 0.01612903]\n",
      " [0.04918033 0.03278689 0.06557377 0.03278689 0.04918033 0.75409836\n",
      "  0.01639344 0.        ]\n",
      " [0.         0.         0.01492537 0.         0.04477612 0.\n",
      "  0.94029851 0.        ]\n",
      " [0.         0.         0.07936508 0.         0.         0.01587302\n",
      "  0.         0.9047619 ]]\n"
     ]
    },
    {
     "data": {
      "image/png": "[encoded data removed]",
      "text/plain": [
       "<Figure size 432x288 with 2 Axes>"
      ]
     },
     "metadata": {
      "needs_background": "light"
     },
     "output_type": "display_data"
    }
   ],
   "source": [
    "classes = ['neutral', 'calm', 'happy', 'sad', 'angry', 'fearful', 'disgust', 'surprise']\n",
    "plot_confusion_matrix(cmt, classes, normalize=True)"
   ]
  },
  {
   "cell_type": "code",
   "execution_count": 22,
   "metadata": {
    "execution": {
     "iopub.execute_input": "2020-12-12T04:30:02.584204Z",
     "iopub.status.busy": "2020-12-12T04:30:02.583333Z",
     "iopub.status.idle": "2020-12-12T04:30:02.587326Z",
     "shell.execute_reply": "2020-12-12T04:30:02.586856Z"
    },
    "papermill": {
     "duration": 0.073199,
     "end_time": "2020-12-12T04:30:02.587425",
     "exception": false,
     "start_time": "2020-12-12T04:30:02.514226",
     "status": "completed"
    },
    "tags": []
   },
   "outputs": [
    {
     "data": {
      "text/plain": [
       "49.5"
      ]
     },
     "execution_count": 22,
     "metadata": {},
     "output_type": "execute_result"
    }
   ],
   "source": []
  },
  {
   "cell_type": "code",
   "execution_count": null,
   "metadata": {
    "papermill": {
     "duration": 0.066964,
     "end_time": "2020-12-12T04:30:02.717622",
     "exception": false,
     "start_time": "2020-12-12T04:30:02.650658",
     "status": "completed"
    },
    "tags": []
   },
   "outputs": [],
   "source": []
  }
 ],
 "metadata": {
  "kernelspec": {
   "display_name": "Python 3",
   "language": "python",
   "name": "python3"
  },
  "language_info": {
   "codemirror_mode": {
    "name": "ipython",
    "version": 3
   },
   "file_extension": ".py",
   "mimetype": "text/x-python",
   "name": "python",
   "nbconvert_exporter": "python",
   "pygments_lexer": "ipython3",
   "version": "3.8.5"
  },
  "papermill": {
   "duration": 1524.283925,
   "end_time": "2020-12-12T04:30:04.550777",
   "environment_variables": {},
   "exception": null,
   "input_path": "__notebook__.ipynb",
   "output_path": "__notebook__.ipynb",
   "parameters": {},
   "start_time": "2020-12-12T04:04:40.266852",
   "version": "2.1.0"
  },
  "widgets": {
   "application/vnd.jupyter.widget-state+json": {
    "state": {
     "1419922c75fb49cd9e73197b79e243f2": {
      "model_module": "@jupyter-widgets/base",
      "model_module_version": "1.2.0",
      "model_name": "LayoutModel",
      "state": {
       "_model_module": "@jupyter-widgets/base",
       "_model_module_version": "1.2.0",
       "_model_name": "LayoutModel",
       "_view_count": null,
       "_view_module": "@jupyter-widgets/base",
       "_view_module_version": "1.2.0",
       "_view_name": "LayoutView",
       "align_content": null,
       "align_items": null,
       "align_self": null,
       "border": null,
       "bottom": null,
       "display": null,
       "flex": null,
       "flex_flow": null,
       "grid_area": null,
       "grid_auto_columns": null,
       "grid_auto_flow": null,
       "grid_auto_rows": null,
       "grid_column": null,
       "grid_gap": null,
       "grid_row": null,
       "grid_template_areas": null,
       "grid_template_columns": null,
       "grid_template_rows": null,
       "height": null,
       "justify_content": null,
       "justify_items": null,
       "left": null,
       "margin": null,
       "max_height": null,
       "max_width": null,
       "min_height": null,
       "min_width": null,
       "object_fit": null,
       "object_position": null,
       "order": null,
       "overflow": null,
       "overflow_x": null,
       "overflow_y": null,
       "padding": null,
       "right": null,
       "top": null,
       "visibility": null,
       "width": null
      }
     },
     "3174849de0ec427c88852ea0f99147fb": {
      "model_module": "@jupyter-widgets/base",
      "model_module_version": "1.2.0",
      "model_name": "LayoutModel",
      "state": {
       "_model_module": "@jupyter-widgets/base",
       "_model_module_version": "1.2.0",
       "_model_name": "LayoutModel",
       "_view_count": null,
       "_view_module": "@jupyter-widgets/base",
       "_view_module_version": "1.2.0",
       "_view_name": "LayoutView",
       "align_content": null,
       "align_items": null,
       "align_self": null,
       "border": null,
       "bottom": null,
       "display": null,
       "flex": null,
       "flex_flow": null,
       "grid_area": null,
       "grid_auto_columns": null,
       "grid_auto_flow": null,
       "grid_auto_rows": null,
       "grid_column": null,
       "grid_gap": null,
       "grid_row": null,
       "grid_template_areas": null,
       "grid_template_columns": null,
       "grid_template_rows": null,
       "height": null,
       "justify_content": null,
       "justify_items": null,
       "left": null,
       "margin": null,
       "max_height": null,
       "max_width": null,
       "min_height": null,
       "min_width": null,
       "object_fit": null,
       "object_position": null,
       "order": null,
       "overflow": null,
       "overflow_x": null,
       "overflow_y": null,
       "padding": null,
       "right": null,
       "top": null,
       "visibility": null,
       "width": null
      }
     },
     "4044e1484c67438d8ca7499723b2e0c7": {
      "model_module": "@jupyter-widgets/base",
      "model_module_version": "1.2.0",
      "model_name": "LayoutModel",
      "state": {
       "_model_module": "@jupyter-widgets/base",
       "_model_module_version": "1.2.0",
       "_model_name": "LayoutModel",
       "_view_count": null,
       "_view_module": "@jupyter-widgets/base",
       "_view_module_version": "1.2.0",
       "_view_name": "LayoutView",
       "align_content": null,
       "align_items": null,
       "align_self": null,
       "border": null,
       "bottom": null,
       "display": null,
       "flex": null,
       "flex_flow": null,
       "grid_area": null,
       "grid_auto_columns": null,
       "grid_auto_flow": null,
       "grid_auto_rows": null,
       "grid_column": null,
       "grid_gap": null,
       "grid_row": null,
       "grid_template_areas": null,
       "grid_template_columns": null,
       "grid_template_rows": null,
       "height": null,
       "justify_content": null,
       "justify_items": null,
       "left": null,
       "margin": null,
       "max_height": null,
       "max_width": null,
       "min_height": null,
       "min_width": null,
       "object_fit": null,
       "object_position": null,
       "order": null,
       "overflow": null,
       "overflow_x": null,
       "overflow_y": null,
       "padding": null,
       "right": null,
       "top": null,
       "visibility": null,
       "width": null
      }
     },
     "479d9150a5834d4986ffe8712822203a": {
      "model_module": "@jupyter-widgets/controls",
      "model_module_version": "1.5.0",
      "model_name": "HBoxModel",
      "state": {
       "_dom_classes": [],
       "_model_module": "@jupyter-widgets/controls",
       "_model_module_version": "1.5.0",
       "_model_name": "HBoxModel",
       "_view_count": null,
       "_view_module": "@jupyter-widgets/controls",
       "_view_module_version": "1.5.0",
       "_view_name": "HBoxView",
       "box_style": "",
       "children": [
        "IPY_MODEL_4b094a1c9e1f4e8481b583773d089f76",
        "IPY_MODEL_8c43762997e04d34a55c0f3fc0b62c97"
       ],
       "layout": "IPY_MODEL_1419922c75fb49cd9e73197b79e243f2"
      }
     },
     "4b094a1c9e1f4e8481b583773d089f76": {
      "model_module": "@jupyter-widgets/controls",
      "model_module_version": "1.5.0",
      "model_name": "FloatProgressModel",
      "state": {
       "_dom_classes": [],
       "_model_module": "@jupyter-widgets/controls",
       "_model_module_version": "1.5.0",
       "_model_name": "FloatProgressModel",
       "_view_count": null,
       "_view_module": "@jupyter-widgets/controls",
       "_view_module_version": "1.5.0",
       "_view_name": "ProgressView",
       "bar_style": "success",
       "description": "100%",
       "description_tooltip": null,
       "layout": "IPY_MODEL_4044e1484c67438d8ca7499723b2e0c7",
       "max": 115730790,
       "min": 0,
       "orientation": "horizontal",
       "style": "IPY_MODEL_a372086ea5d24566b3d85fcffbb1bfb6",
       "value": 115730790
      }
     },
     "4f4953dc60984cfaabd7a8de80a85fda": {
      "model_module": "@jupyter-widgets/controls",
      "model_module_version": "1.5.0",
      "model_name": "DescriptionStyleModel",
      "state": {
       "_model_module": "@jupyter-widgets/controls",
       "_model_module_version": "1.5.0",
       "_model_name": "DescriptionStyleModel",
       "_view_count": null,
       "_view_module": "@jupyter-widgets/base",
       "_view_module_version": "1.2.0",
       "_view_name": "StyleView",
       "description_width": ""
      }
     },
     "8c43762997e04d34a55c0f3fc0b62c97": {
      "model_module": "@jupyter-widgets/controls",
      "model_module_version": "1.5.0",
      "model_name": "HTMLModel",
      "state": {
       "_dom_classes": [],
       "_model_module": "@jupyter-widgets/controls",
       "_model_module_version": "1.5.0",
       "_model_name": "HTMLModel",
       "_view_count": null,
       "_view_module": "@jupyter-widgets/controls",
       "_view_module_version": "1.5.0",
       "_view_name": "HTMLView",
       "description": "",
       "description_tooltip": null,
       "layout": "IPY_MODEL_3174849de0ec427c88852ea0f99147fb",
       "placeholder": "​",
       "style": "IPY_MODEL_4f4953dc60984cfaabd7a8de80a85fda",
       "value": " 110M/110M [00:05&lt;00:00, 19.4MB/s]"
      }
     },
     "a372086ea5d24566b3d85fcffbb1bfb6": {
      "model_module": "@jupyter-widgets/controls",
      "model_module_version": "1.5.0",
      "model_name": "ProgressStyleModel",
      "state": {
       "_model_module": "@jupyter-widgets/controls",
       "_model_module_version": "1.5.0",
       "_model_name": "ProgressStyleModel",
       "_view_count": null,
       "_view_module": "@jupyter-widgets/base",
       "_view_module_version": "1.2.0",
       "_view_name": "StyleView",
       "bar_color": null,
       "description_width": "initial"
      }
     }
    },
    "version_major": 2,
    "version_minor": 0
   }
  }
 },
 "nbformat": 4,
 "nbformat_minor": 4
}
